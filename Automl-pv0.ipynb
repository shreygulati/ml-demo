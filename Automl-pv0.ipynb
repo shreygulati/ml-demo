{
 "cells": [
  {
   "cell_type": "code",
   "execution_count": 19,
   "metadata": {},
   "outputs": [
    {
     "name": "stdout",
     "output_type": "stream",
     "text": [
      "Checking whether there is an H2O instance running at http://localhost:54321 . connected.\n"
     ]
    },
    {
     "data": {
      "text/html": [
       "<div style=\"overflow:auto\"><table style=\"width:50%\"><tr><td>H2O_cluster_uptime:</td>\n",
       "<td>20 mins 52 secs</td></tr>\n",
       "<tr><td>H2O_cluster_timezone:</td>\n",
       "<td>Europe/Berlin</td></tr>\n",
       "<tr><td>H2O_data_parsing_timezone:</td>\n",
       "<td>UTC</td></tr>\n",
       "<tr><td>H2O_cluster_version:</td>\n",
       "<td>3.30.0.7</td></tr>\n",
       "<tr><td>H2O_cluster_version_age:</td>\n",
       "<td>19 hours and 13 minutes </td></tr>\n",
       "<tr><td>H2O_cluster_name:</td>\n",
       "<td>H2O_from_python_Shrey_kofrlo</td></tr>\n",
       "<tr><td>H2O_cluster_total_nodes:</td>\n",
       "<td>1</td></tr>\n",
       "<tr><td>H2O_cluster_free_memory:</td>\n",
       "<td>999 Mb</td></tr>\n",
       "<tr><td>H2O_cluster_total_cores:</td>\n",
       "<td>4</td></tr>\n",
       "<tr><td>H2O_cluster_allowed_cores:</td>\n",
       "<td>4</td></tr>\n",
       "<tr><td>H2O_cluster_status:</td>\n",
       "<td>locked, healthy</td></tr>\n",
       "<tr><td>H2O_connection_url:</td>\n",
       "<td>http://localhost:54321</td></tr>\n",
       "<tr><td>H2O_connection_proxy:</td>\n",
       "<td>{\"http\": null, \"https\": null}</td></tr>\n",
       "<tr><td>H2O_internal_security:</td>\n",
       "<td>False</td></tr>\n",
       "<tr><td>H2O_API_Extensions:</td>\n",
       "<td>Amazon S3, Algos, AutoML, Core V3, TargetEncoder, Core V4</td></tr>\n",
       "<tr><td>Python_version:</td>\n",
       "<td>3.7.4 final</td></tr></table></div>"
      ],
      "text/plain": [
       "--------------------------  ---------------------------------------------------------\n",
       "H2O_cluster_uptime:         20 mins 52 secs\n",
       "H2O_cluster_timezone:       Europe/Berlin\n",
       "H2O_data_parsing_timezone:  UTC\n",
       "H2O_cluster_version:        3.30.0.7\n",
       "H2O_cluster_version_age:    19 hours and 13 minutes\n",
       "H2O_cluster_name:           H2O_from_python_Shrey_kofrlo\n",
       "H2O_cluster_total_nodes:    1\n",
       "H2O_cluster_free_memory:    999 Mb\n",
       "H2O_cluster_total_cores:    4\n",
       "H2O_cluster_allowed_cores:  4\n",
       "H2O_cluster_status:         locked, healthy\n",
       "H2O_connection_url:         http://localhost:54321\n",
       "H2O_connection_proxy:       {\"http\": null, \"https\": null}\n",
       "H2O_internal_security:      False\n",
       "H2O_API_Extensions:         Amazon S3, Algos, AutoML, Core V3, TargetEncoder, Core V4\n",
       "Python_version:             3.7.4 final\n",
       "--------------------------  ---------------------------------------------------------"
      ]
     },
     "metadata": {},
     "output_type": "display_data"
    }
   ],
   "source": [
    "import h2o\n",
    "from h2o.automl import H2OAutoML\n",
    "h2o.init()"
   ]
  },
  {
   "cell_type": "code",
   "execution_count": 20,
   "metadata": {},
   "outputs": [],
   "source": [
    "import pandas as pd"
   ]
  },
  {
   "cell_type": "code",
   "execution_count": 21,
   "metadata": {},
   "outputs": [],
   "source": [
    "df = pd.read_excel(r'C:\\Users\\Shrey\\THESIS\\Preprocs_1.xlsx')"
   ]
  },
  {
   "cell_type": "code",
   "execution_count": 22,
   "metadata": {},
   "outputs": [
    {
     "data": {
      "text/html": [
       "<div>\n",
       "<style scoped>\n",
       "    .dataframe tbody tr th:only-of-type {\n",
       "        vertical-align: middle;\n",
       "    }\n",
       "\n",
       "    .dataframe tbody tr th {\n",
       "        vertical-align: top;\n",
       "    }\n",
       "\n",
       "    .dataframe thead th {\n",
       "        text-align: right;\n",
       "    }\n",
       "</style>\n",
       "<table border=\"1\" class=\"dataframe\">\n",
       "  <thead>\n",
       "    <tr style=\"text-align: right;\">\n",
       "      <th></th>\n",
       "      <th>Temp</th>\n",
       "      <th>Heat_time</th>\n",
       "      <th>Valve_angle</th>\n",
       "      <th>Vaccuum_time</th>\n",
       "      <th>Thickness</th>\n",
       "      <th>PV</th>\n",
       "    </tr>\n",
       "  </thead>\n",
       "  <tbody>\n",
       "    <tr>\n",
       "      <th>count</th>\n",
       "      <td>109.000000</td>\n",
       "      <td>109.000000</td>\n",
       "      <td>109.000000</td>\n",
       "      <td>109.000000</td>\n",
       "      <td>109.000000</td>\n",
       "      <td>109.000000</td>\n",
       "    </tr>\n",
       "    <tr>\n",
       "      <th>mean</th>\n",
       "      <td>900.458716</td>\n",
       "      <td>129.449541</td>\n",
       "      <td>10.183486</td>\n",
       "      <td>7.477064</td>\n",
       "      <td>1.427523</td>\n",
       "      <td>1250.239292</td>\n",
       "    </tr>\n",
       "    <tr>\n",
       "      <th>std</th>\n",
       "      <td>21.240916</td>\n",
       "      <td>8.906392</td>\n",
       "      <td>4.457962</td>\n",
       "      <td>1.115205</td>\n",
       "      <td>0.648341</td>\n",
       "      <td>386.928459</td>\n",
       "    </tr>\n",
       "    <tr>\n",
       "      <th>min</th>\n",
       "      <td>850.000000</td>\n",
       "      <td>110.000000</td>\n",
       "      <td>0.000000</td>\n",
       "      <td>5.000000</td>\n",
       "      <td>0.700000</td>\n",
       "      <td>565.197400</td>\n",
       "    </tr>\n",
       "    <tr>\n",
       "      <th>25%</th>\n",
       "      <td>875.000000</td>\n",
       "      <td>120.000000</td>\n",
       "      <td>5.000000</td>\n",
       "      <td>6.250000</td>\n",
       "      <td>0.700000</td>\n",
       "      <td>1048.100000</td>\n",
       "    </tr>\n",
       "    <tr>\n",
       "      <th>50%</th>\n",
       "      <td>900.000000</td>\n",
       "      <td>130.000000</td>\n",
       "      <td>10.000000</td>\n",
       "      <td>7.500000</td>\n",
       "      <td>2.000000</td>\n",
       "      <td>1197.600000</td>\n",
       "    </tr>\n",
       "    <tr>\n",
       "      <th>75%</th>\n",
       "      <td>925.000000</td>\n",
       "      <td>140.000000</td>\n",
       "      <td>15.000000</td>\n",
       "      <td>8.750000</td>\n",
       "      <td>2.000000</td>\n",
       "      <td>1350.000000</td>\n",
       "    </tr>\n",
       "    <tr>\n",
       "      <th>max</th>\n",
       "      <td>950.000000</td>\n",
       "      <td>150.000000</td>\n",
       "      <td>20.000000</td>\n",
       "      <td>10.000000</td>\n",
       "      <td>2.000000</td>\n",
       "      <td>3751.800000</td>\n",
       "    </tr>\n",
       "  </tbody>\n",
       "</table>\n",
       "</div>"
      ],
      "text/plain": [
       "             Temp   Heat_time  Valve_angle  Vaccuum_time   Thickness  \\\n",
       "count  109.000000  109.000000   109.000000    109.000000  109.000000   \n",
       "mean   900.458716  129.449541    10.183486      7.477064    1.427523   \n",
       "std     21.240916    8.906392     4.457962      1.115205    0.648341   \n",
       "min    850.000000  110.000000     0.000000      5.000000    0.700000   \n",
       "25%    875.000000  120.000000     5.000000      6.250000    0.700000   \n",
       "50%    900.000000  130.000000    10.000000      7.500000    2.000000   \n",
       "75%    925.000000  140.000000    15.000000      8.750000    2.000000   \n",
       "max    950.000000  150.000000    20.000000     10.000000    2.000000   \n",
       "\n",
       "                PV  \n",
       "count   109.000000  \n",
       "mean   1250.239292  \n",
       "std     386.928459  \n",
       "min     565.197400  \n",
       "25%    1048.100000  \n",
       "50%    1197.600000  \n",
       "75%    1350.000000  \n",
       "max    3751.800000  "
      ]
     },
     "execution_count": 22,
     "metadata": {},
     "output_type": "execute_result"
    }
   ],
   "source": [
    "df.describe()"
   ]
  },
  {
   "cell_type": "code",
   "execution_count": 23,
   "metadata": {},
   "outputs": [
    {
     "name": "stdout",
     "output_type": "stream",
     "text": [
      "Parse progress: |█████████████████████████████████████████████████████████| 100%\n"
     ]
    }
   ],
   "source": [
    "hf = h2o.H2OFrame(df)"
   ]
  },
  {
   "cell_type": "code",
   "execution_count": 24,
   "metadata": {},
   "outputs": [
    {
     "name": "stdout",
     "output_type": "stream",
     "text": [
      "Rows:109\n",
      "Cols:6\n",
      "\n",
      "\n"
     ]
    },
    {
     "data": {
      "text/html": [
       "<table>\n",
       "<thead>\n",
       "<tr><th>       </th><th>Temp              </th><th>Heat_time         </th><th>Valve_angle      </th><th>Vaccuum_time      </th><th>Thickness         </th><th>PV                </th></tr>\n",
       "</thead>\n",
       "<tbody>\n",
       "<tr><td>type   </td><td>int               </td><td>int               </td><td>int              </td><td>real              </td><td>real              </td><td>real              </td></tr>\n",
       "<tr><td>mins   </td><td>850.0             </td><td>110.0             </td><td>0.0              </td><td>5.0               </td><td>0.7               </td><td>565.1974          </td></tr>\n",
       "<tr><td>mean   </td><td>900.45871559633   </td><td>129.44954128440364</td><td>10.18348623853211</td><td>7.477064220183486 </td><td>1.4275229357798163</td><td>1250.2392917431193</td></tr>\n",
       "<tr><td>maxs   </td><td>950.0             </td><td>150.0             </td><td>20.0             </td><td>10.0              </td><td>2.0               </td><td>3751.8            </td></tr>\n",
       "<tr><td>sigma  </td><td>21.240916189214822</td><td>8.906392043475071 </td><td>4.457962367982249</td><td>1.1152049327966038</td><td>0.6483414109226924</td><td>386.92845857844515</td></tr>\n",
       "<tr><td>zeros  </td><td>0                 </td><td>0                 </td><td>3                </td><td>0                 </td><td>0                 </td><td>0                 </td></tr>\n",
       "<tr><td>missing</td><td>0                 </td><td>0                 </td><td>0                </td><td>0                 </td><td>0                 </td><td>0                 </td></tr>\n",
       "<tr><td>0      </td><td>950.0             </td><td>130.0             </td><td>10.0             </td><td>7.5               </td><td>2.0               </td><td>977.0643          </td></tr>\n",
       "<tr><td>1      </td><td>950.0             </td><td>130.0             </td><td>10.0             </td><td>7.5               </td><td>0.7               </td><td>827.4027          </td></tr>\n",
       "<tr><td>2      </td><td>850.0             </td><td>130.0             </td><td>10.0             </td><td>7.5               </td><td>0.7               </td><td>909.9245          </td></tr>\n",
       "<tr><td>3      </td><td>850.0             </td><td>130.0             </td><td>10.0             </td><td>7.5               </td><td>2.0               </td><td>1416.4            </td></tr>\n",
       "<tr><td>4      </td><td>850.0             </td><td>130.0             </td><td>10.0             </td><td>7.5               </td><td>2.0               </td><td>1411.5            </td></tr>\n",
       "<tr><td>5      </td><td>925.0             </td><td>120.0             </td><td>15.0             </td><td>6.25              </td><td>0.7               </td><td>1183.2            </td></tr>\n",
       "<tr><td>6      </td><td>925.0             </td><td>120.0             </td><td>15.0             </td><td>8.75              </td><td>0.7               </td><td>845.2431          </td></tr>\n",
       "<tr><td>7      </td><td>925.0             </td><td>120.0             </td><td>5.0              </td><td>6.25              </td><td>2.0               </td><td>1187.5            </td></tr>\n",
       "<tr><td>8      </td><td>925.0             </td><td>120.0             </td><td>15.0             </td><td>6.25              </td><td>2.0               </td><td>1158.4            </td></tr>\n",
       "<tr><td>9      </td><td>925.0             </td><td>140.0             </td><td>15.0             </td><td>6.25              </td><td>0.7               </td><td>1150.7            </td></tr>\n",
       "</tbody>\n",
       "</table>"
      ]
     },
     "metadata": {},
     "output_type": "display_data"
    }
   ],
   "source": [
    "hf.describe()"
   ]
  },
  {
   "cell_type": "code",
   "execution_count": 25,
   "metadata": {},
   "outputs": [],
   "source": [
    "y = \"PV\""
   ]
  },
  {
   "cell_type": "code",
   "execution_count": 26,
   "metadata": {},
   "outputs": [],
   "source": [
    "#no need to split.. train autoML on full dataset\n",
    "#splits = hf.split_frame(ratios = [0.8], seed = 1)\n",
    "#train = splits[0]\n",
    "#test = splits[1]"
   ]
  },
  {
   "cell_type": "markdown",
   "metadata": {},
   "source": [
    "## Running AutoML"
   ]
  },
  {
   "cell_type": "code",
   "execution_count": 29,
   "metadata": {},
   "outputs": [
    {
     "name": "stdout",
     "output_type": "stream",
     "text": [
      "AutoML progress: |\n",
      "12:45:47.351: AutoML: XGBoost is not available; skipping it.\n",
      "12:45:56.118: Skipping training of model GBM_5_AutoML_20200722_124547 due to exception: water.exceptions.H2OModelBuilderIllegalArgumentException: Illegal argument(s) for GBM model: GBM_5_AutoML_20200722_124547.  Details: ERRR on field: _min_rows: The dataset size is too small to split for min_rows=100.0: must have at least 200.0 (weighted) rows, but have only 109.0.\n",
      "\n",
      "12:52:00.807: New models will be added to existing leaderboard full_data@@PV (leaderboard frame=null) with already 107 models.\n",
      "12:52:00.809: AutoML: XGBoost is not available; skipping it.\n",
      "\n",
      "████Failed polling AutoML progress log: [WinError 32] The process cannot access the file because it is being used by another process: 'C:\\\\Users\\\\Shrey\\\\AppData\\\\Local\\\\Temp\\\\tmpsjg34ukp.csv'\n",
      "███████████████████████████████████████\n",
      "12:52:06.827: Skipping training of model GBM_5_AutoML_20200722_125200 due to exception: water.exceptions.H2OModelBuilderIllegalArgumentException: Illegal argument(s) for GBM model: GBM_5_AutoML_20200722_125200.  Details: ERRR on field: _min_rows: The dataset size is too small to split for min_rows=100.0: must have at least 200.0 (weighted) rows, but have only 109.0.\n",
      "\n",
      "\n",
      "█████████████| 100%\n",
      "\n",
      "12:56:00.826: StackedEnsemble_BestOfFamily_AutoML_20200722_125200 [StackedEnsemble best (built using top model from each algorithm type)] failed: water.exceptions.H2OIllegalArgumentException: Failed to find the xval predictions frame. . .  Looks like keep_cross_validation_predictions wasn't set when building the models, or the frame was deleted.\n",
      "12:56:01.827: StackedEnsemble_AllModels_AutoML_20200722_125200 [StackedEnsemble all (built using all AutoML models)] failed: water.exceptions.H2OIllegalArgumentException: Failed to find the xval predictions frame. . .  Looks like keep_cross_validation_predictions wasn't set when building the models, or the frame was deleted.\n",
      "\n"
     ]
    }
   ],
   "source": [
    "aml2 = H2OAutoML(max_runtime_secs = 300, seed = 1, project_name = \"full_data\")\n",
    "aml2.train(y = y, training_frame = hf)"
   ]
  },
  {
   "cell_type": "code",
   "execution_count": null,
   "metadata": {},
   "outputs": [],
   "source": []
  },
  {
   "cell_type": "code",
   "execution_count": 30,
   "metadata": {},
   "outputs": [
    {
     "data": {
      "text/html": [
       "<table>\n",
       "<thead>\n",
       "<tr><th>model_id                                           </th><th style=\"text-align: right;\">  mean_residual_deviance</th><th style=\"text-align: right;\">   rmse</th><th style=\"text-align: right;\">    mse</th><th style=\"text-align: right;\">    mae</th><th style=\"text-align: right;\">   rmsle</th></tr>\n",
       "</thead>\n",
       "<tbody>\n",
       "<tr><td>DeepLearning_grid__1_AutoML_20200722_125200_model_1</td><td style=\"text-align: right;\">                 28476.3</td><td style=\"text-align: right;\">168.749</td><td style=\"text-align: right;\">28476.3</td><td style=\"text-align: right;\">114.196</td><td style=\"text-align: right;\">0.145056</td></tr>\n",
       "<tr><td>GBM_grid__1_AutoML_20200722_124547_model_22        </td><td style=\"text-align: right;\">                 30994.9</td><td style=\"text-align: right;\">176.054</td><td style=\"text-align: right;\">30994.9</td><td style=\"text-align: right;\">112.519</td><td style=\"text-align: right;\">0.137262</td></tr>\n",
       "<tr><td>GBM_grid__1_AutoML_20200722_125200_model_22        </td><td style=\"text-align: right;\">                 30994.9</td><td style=\"text-align: right;\">176.054</td><td style=\"text-align: right;\">30994.9</td><td style=\"text-align: right;\">112.519</td><td style=\"text-align: right;\">0.137262</td></tr>\n",
       "<tr><td>GBM_grid__1_AutoML_20200722_125200_model_14        </td><td style=\"text-align: right;\">                 31120  </td><td style=\"text-align: right;\">176.409</td><td style=\"text-align: right;\">31120  </td><td style=\"text-align: right;\">112.873</td><td style=\"text-align: right;\">0.13465 </td></tr>\n",
       "<tr><td>GBM_grid__1_AutoML_20200722_124547_model_14        </td><td style=\"text-align: right;\">                 31120  </td><td style=\"text-align: right;\">176.409</td><td style=\"text-align: right;\">31120  </td><td style=\"text-align: right;\">112.873</td><td style=\"text-align: right;\">0.13465 </td></tr>\n",
       "<tr><td>DeepLearning_grid__1_AutoML_20200722_124547_model_1</td><td style=\"text-align: right;\">                 31134.2</td><td style=\"text-align: right;\">176.449</td><td style=\"text-align: right;\">31134.2</td><td style=\"text-align: right;\">114.528</td><td style=\"text-align: right;\">0.146649</td></tr>\n",
       "<tr><td>GBM_grid__1_AutoML_20200722_125200_model_102       </td><td style=\"text-align: right;\">                 31454.4</td><td style=\"text-align: right;\">177.354</td><td style=\"text-align: right;\">31454.4</td><td style=\"text-align: right;\">111.615</td><td style=\"text-align: right;\">0.134464</td></tr>\n",
       "<tr><td>GBM_grid__1_AutoML_20200722_124547_model_102       </td><td style=\"text-align: right;\">                 31454.4</td><td style=\"text-align: right;\">177.354</td><td style=\"text-align: right;\">31454.4</td><td style=\"text-align: right;\">111.615</td><td style=\"text-align: right;\">0.134464</td></tr>\n",
       "<tr><td>GBM_grid__1_AutoML_20200722_125200_model_86        </td><td style=\"text-align: right;\">                 32084.3</td><td style=\"text-align: right;\">179.121</td><td style=\"text-align: right;\">32084.3</td><td style=\"text-align: right;\">116.815</td><td style=\"text-align: right;\">0.137942</td></tr>\n",
       "<tr><td>GBM_grid__1_AutoML_20200722_124547_model_86        </td><td style=\"text-align: right;\">                 32084.3</td><td style=\"text-align: right;\">179.121</td><td style=\"text-align: right;\">32084.3</td><td style=\"text-align: right;\">116.815</td><td style=\"text-align: right;\">0.137942</td></tr>\n",
       "</tbody>\n",
       "</table>"
      ]
     },
     "metadata": {},
     "output_type": "display_data"
    },
    {
     "data": {
      "text/plain": []
     },
     "execution_count": 30,
     "metadata": {},
     "output_type": "execute_result"
    }
   ],
   "source": [
    "aml2.leaderboard.head()"
   ]
  },
  {
   "cell_type": "code",
   "execution_count": 32,
   "metadata": {},
   "outputs": [
    {
     "name": "stdout",
     "output_type": "stream",
     "text": [
      "deeplearning prediction progress: |███████████████████████████████████████| 100%\n"
     ]
    }
   ],
   "source": [
    "splits = hf.split_frame(ratios = [0.8], seed = 1)\n",
    "train = splits[0]\n",
    "test = splits[1]\n",
    "\n",
    "preds = aml2.predict(test)"
   ]
  },
  {
   "cell_type": "code",
   "execution_count": 33,
   "metadata": {},
   "outputs": [
    {
     "data": {
      "text/html": [
       "<table>\n",
       "<thead>\n",
       "<tr><th style=\"text-align: right;\">  predict</th></tr>\n",
       "</thead>\n",
       "<tbody>\n",
       "<tr><td style=\"text-align: right;\">  924.031</td></tr>\n",
       "<tr><td style=\"text-align: right;\"> 1105.04 </td></tr>\n",
       "<tr><td style=\"text-align: right;\"> 1204.11 </td></tr>\n",
       "<tr><td style=\"text-align: right;\"> 1095.96 </td></tr>\n",
       "<tr><td style=\"text-align: right;\"> 1095.96 </td></tr>\n",
       "<tr><td style=\"text-align: right;\">  995.23 </td></tr>\n",
       "<tr><td style=\"text-align: right;\"> 1041.87 </td></tr>\n",
       "<tr><td style=\"text-align: right;\"> 2793.78 </td></tr>\n",
       "<tr><td style=\"text-align: right;\"> 1308.67 </td></tr>\n",
       "<tr><td style=\"text-align: right;\"> 1307.59 </td></tr>\n",
       "</tbody>\n",
       "</table>"
      ]
     },
     "metadata": {},
     "output_type": "display_data"
    },
    {
     "data": {
      "text/plain": []
     },
     "execution_count": 33,
     "metadata": {},
     "output_type": "execute_result"
    }
   ],
   "source": [
    "preds"
   ]
  },
  {
   "cell_type": "code",
   "execution_count": 34,
   "metadata": {},
   "outputs": [
    {
     "data": {
      "text/html": [
       "<table>\n",
       "<thead>\n",
       "<tr><th style=\"text-align: right;\">  Temp</th><th style=\"text-align: right;\">  Heat_time</th><th style=\"text-align: right;\">  Valve_angle</th><th style=\"text-align: right;\">  Vaccuum_time</th><th style=\"text-align: right;\">  Thickness</th><th style=\"text-align: right;\">      PV</th></tr>\n",
       "</thead>\n",
       "<tbody>\n",
       "<tr><td style=\"text-align: right;\">   850</td><td style=\"text-align: right;\">        130</td><td style=\"text-align: right;\">           10</td><td style=\"text-align: right;\">          7.5 </td><td style=\"text-align: right;\">        0.7</td><td style=\"text-align: right;\"> 909.924</td></tr>\n",
       "<tr><td style=\"text-align: right;\">   925</td><td style=\"text-align: right;\">        140</td><td style=\"text-align: right;\">           15</td><td style=\"text-align: right;\">          6.25</td><td style=\"text-align: right;\">        0.7</td><td style=\"text-align: right;\">1150.7  </td></tr>\n",
       "<tr><td style=\"text-align: right;\">   925</td><td style=\"text-align: right;\">        140</td><td style=\"text-align: right;\">            5</td><td style=\"text-align: right;\">          8.75</td><td style=\"text-align: right;\">        2  </td><td style=\"text-align: right;\">1158.3  </td></tr>\n",
       "<tr><td style=\"text-align: right;\">   900</td><td style=\"text-align: right;\">        130</td><td style=\"text-align: right;\">           10</td><td style=\"text-align: right;\">          7.5 </td><td style=\"text-align: right;\">        0.7</td><td style=\"text-align: right;\"> 921.825</td></tr>\n",
       "<tr><td style=\"text-align: right;\">   900</td><td style=\"text-align: right;\">        130</td><td style=\"text-align: right;\">           10</td><td style=\"text-align: right;\">          7.5 </td><td style=\"text-align: right;\">        0.7</td><td style=\"text-align: right;\">1047.4  </td></tr>\n",
       "<tr><td style=\"text-align: right;\">   900</td><td style=\"text-align: right;\">        130</td><td style=\"text-align: right;\">           20</td><td style=\"text-align: right;\">          7.5 </td><td style=\"text-align: right;\">        0.7</td><td style=\"text-align: right;\"> 954.678</td></tr>\n",
       "<tr><td style=\"text-align: right;\">   900</td><td style=\"text-align: right;\">        110</td><td style=\"text-align: right;\">           10</td><td style=\"text-align: right;\">          7.5 </td><td style=\"text-align: right;\">        0.7</td><td style=\"text-align: right;\"> 941.06 </td></tr>\n",
       "<tr><td style=\"text-align: right;\">   900</td><td style=\"text-align: right;\">        130</td><td style=\"text-align: right;\">            0</td><td style=\"text-align: right;\">          7.5 </td><td style=\"text-align: right;\">        2  </td><td style=\"text-align: right;\">2916    </td></tr>\n",
       "<tr><td style=\"text-align: right;\">   900</td><td style=\"text-align: right;\">        130</td><td style=\"text-align: right;\">           10</td><td style=\"text-align: right;\">          5   </td><td style=\"text-align: right;\">        2  </td><td style=\"text-align: right;\">1410    </td></tr>\n",
       "<tr><td style=\"text-align: right;\">   900</td><td style=\"text-align: right;\">        130</td><td style=\"text-align: right;\">           10</td><td style=\"text-align: right;\">          7.5 </td><td style=\"text-align: right;\">        2  </td><td style=\"text-align: right;\">1308.9  </td></tr>\n",
       "</tbody>\n",
       "</table>"
      ]
     },
     "metadata": {},
     "output_type": "display_data"
    },
    {
     "data": {
      "text/plain": []
     },
     "execution_count": 34,
     "metadata": {},
     "output_type": "execute_result"
    }
   ],
   "source": [
    "test"
   ]
  },
  {
   "cell_type": "code",
   "execution_count": 39,
   "metadata": {},
   "outputs": [],
   "source": [
    "df_pv = pd.read_excel(r'C:\\Users\\Shrey\\THESIS\\Preprocs_data_avg_pv.xlsx')\n",
    "df_a = pd.read_excel(r'C:\\Users\\Shrey\\THESIS\\Preprocs_data_avg_A.xlsx')\n",
    "df_c = pd.read_excel(r'C:\\Users\\Shrey\\THESIS\\Preprocs_data_avg_C.xlsx')"
   ]
  },
  {
   "cell_type": "code",
   "execution_count": 40,
   "metadata": {},
   "outputs": [
    {
     "name": "stdout",
     "output_type": "stream",
     "text": [
      "Parse progress: |█████████████████████████████████████████████████████████| 100%\n",
      "Parse progress: |█████████████████████████████████████████████████████████| 100%\n",
      "Parse progress: |█████████████████████████████████████████████████████████| 100%\n",
      "Rows:109\n",
      "Cols:6\n",
      "\n",
      "\n"
     ]
    },
    {
     "data": {
      "text/html": [
       "<table>\n",
       "<thead>\n",
       "<tr><th>       </th><th>Temp              </th><th>Heat_time         </th><th>Valve_angle      </th><th>Vaccuum_time      </th><th>Thickness         </th><th>avg-pv            </th></tr>\n",
       "</thead>\n",
       "<tbody>\n",
       "<tr><td>type   </td><td>int               </td><td>int               </td><td>int              </td><td>real              </td><td>real              </td><td>real              </td></tr>\n",
       "<tr><td>mins   </td><td>850.0             </td><td>110.0             </td><td>0.0              </td><td>5.0               </td><td>0.7               </td><td>681.6278500000001 </td></tr>\n",
       "<tr><td>mean   </td><td>900.45871559633   </td><td>129.44954128440364</td><td>10.18348623853211</td><td>7.477064220183486 </td><td>1.4275229357798163</td><td>1293.1144422018347</td></tr>\n",
       "<tr><td>maxs   </td><td>950.0             </td><td>150.0             </td><td>20.0             </td><td>10.0              </td><td>2.0               </td><td>6258.9            </td></tr>\n",
       "<tr><td>sigma  </td><td>21.240916189214822</td><td>8.906392043475071 </td><td>4.457962367982249</td><td>1.1152049327966038</td><td>0.6483414109226924</td><td>594.7536972272453 </td></tr>\n",
       "<tr><td>zeros  </td><td>0                 </td><td>0                 </td><td>3                </td><td>0                 </td><td>0                 </td><td>0                 </td></tr>\n",
       "<tr><td>missing</td><td>0                 </td><td>0                 </td><td>0                </td><td>0                 </td><td>0                 </td><td>0                 </td></tr>\n",
       "<tr><td>0      </td><td>950.0             </td><td>130.0             </td><td>10.0             </td><td>7.5               </td><td>2.0               </td><td>1019.03215        </td></tr>\n",
       "<tr><td>1      </td><td>950.0             </td><td>130.0             </td><td>10.0             </td><td>7.5               </td><td>0.7               </td><td>788.0170499999999 </td></tr>\n",
       "<tr><td>2      </td><td>850.0             </td><td>130.0             </td><td>10.0             </td><td>7.5               </td><td>0.7               </td><td>919.3712          </td></tr>\n",
       "<tr><td>3      </td><td>850.0             </td><td>130.0             </td><td>10.0             </td><td>7.5               </td><td>2.0               </td><td>1485.5            </td></tr>\n",
       "<tr><td>4      </td><td>850.0             </td><td>130.0             </td><td>10.0             </td><td>7.5               </td><td>2.0               </td><td>1410.4            </td></tr>\n",
       "<tr><td>5      </td><td>925.0             </td><td>120.0             </td><td>15.0             </td><td>6.25              </td><td>0.7               </td><td>1221.95           </td></tr>\n",
       "<tr><td>6      </td><td>925.0             </td><td>120.0             </td><td>15.0             </td><td>8.75              </td><td>0.7               </td><td>863.92395         </td></tr>\n",
       "<tr><td>7      </td><td>925.0             </td><td>120.0             </td><td>5.0              </td><td>6.25              </td><td>2.0               </td><td>1232.3            </td></tr>\n",
       "<tr><td>8      </td><td>925.0             </td><td>120.0             </td><td>15.0             </td><td>6.25              </td><td>2.0               </td><td>1202.9            </td></tr>\n",
       "<tr><td>9      </td><td>925.0             </td><td>140.0             </td><td>15.0             </td><td>6.25              </td><td>0.7               </td><td>1153.5500000000002</td></tr>\n",
       "</tbody>\n",
       "</table>"
      ]
     },
     "metadata": {},
     "output_type": "display_data"
    },
    {
     "name": "stdout",
     "output_type": "stream",
     "text": [
      "Rows:109\n",
      "Cols:6\n",
      "\n",
      "\n"
     ]
    },
    {
     "data": {
      "text/html": [
       "<table>\n",
       "<thead>\n",
       "<tr><th>       </th><th>Temp              </th><th>Heat_time         </th><th>Valve_angle      </th><th>Vaccuum_time      </th><th>Thickness         </th><th>avg-a             </th></tr>\n",
       "</thead>\n",
       "<tbody>\n",
       "<tr><td>type   </td><td>int               </td><td>int               </td><td>int              </td><td>real              </td><td>real              </td><td>real              </td></tr>\n",
       "<tr><td>mins   </td><td>850.0             </td><td>110.0             </td><td>0.0              </td><td>5.0               </td><td>0.7               </td><td>1.27603764691733  </td></tr>\n",
       "<tr><td>mean   </td><td>900.45871559633   </td><td>129.44954128440364</td><td>10.18348623853211</td><td>7.477064220183486 </td><td>1.4275229357798163</td><td>3.8971906177036812</td></tr>\n",
       "<tr><td>maxs   </td><td>950.0             </td><td>150.0             </td><td>20.0             </td><td>10.0              </td><td>2.0               </td><td>3.99999999999998  </td></tr>\n",
       "<tr><td>sigma  </td><td>21.240916189214822</td><td>8.906392043475071 </td><td>4.457962367982249</td><td>1.1152049327966038</td><td>0.6483414109226924</td><td>0.4271854680178688</td></tr>\n",
       "<tr><td>zeros  </td><td>0                 </td><td>0                 </td><td>3                </td><td>0                 </td><td>0                 </td><td>0                 </td></tr>\n",
       "<tr><td>missing</td><td>0                 </td><td>0                 </td><td>0                </td><td>0                 </td><td>0                 </td><td>0                 </td></tr>\n",
       "<tr><td>0      </td><td>950.0             </td><td>130.0             </td><td>10.0             </td><td>7.5               </td><td>2.0               </td><td>3.97123562903914  </td></tr>\n",
       "<tr><td>1      </td><td>950.0             </td><td>130.0             </td><td>10.0             </td><td>7.5               </td><td>0.7               </td><td>3.99999999999998  </td></tr>\n",
       "<tr><td>2      </td><td>850.0             </td><td>130.0             </td><td>10.0             </td><td>7.5               </td><td>0.7               </td><td>3.99999999999998  </td></tr>\n",
       "<tr><td>3      </td><td>850.0             </td><td>130.0             </td><td>10.0             </td><td>7.5               </td><td>2.0               </td><td>3.95722554426836  </td></tr>\n",
       "<tr><td>4      </td><td>850.0             </td><td>130.0             </td><td>10.0             </td><td>7.5               </td><td>2.0               </td><td>3.95550923354478  </td></tr>\n",
       "<tr><td>5      </td><td>925.0             </td><td>120.0             </td><td>15.0             </td><td>6.25              </td><td>0.7               </td><td>3.99999999999998  </td></tr>\n",
       "<tr><td>6      </td><td>925.0             </td><td>120.0             </td><td>15.0             </td><td>8.75              </td><td>0.7               </td><td>3.99999999999998  </td></tr>\n",
       "<tr><td>7      </td><td>925.0             </td><td>120.0             </td><td>5.0              </td><td>6.25              </td><td>2.0               </td><td>3.862162849897485 </td></tr>\n",
       "<tr><td>8      </td><td>925.0             </td><td>120.0             </td><td>15.0             </td><td>6.25              </td><td>2.0               </td><td>3.96075211146966  </td></tr>\n",
       "<tr><td>9      </td><td>925.0             </td><td>140.0             </td><td>15.0             </td><td>6.25              </td><td>0.7               </td><td>3.99999999999998  </td></tr>\n",
       "</tbody>\n",
       "</table>"
      ]
     },
     "metadata": {},
     "output_type": "display_data"
    },
    {
     "name": "stdout",
     "output_type": "stream",
     "text": [
      "Rows:109\n",
      "Cols:6\n",
      "\n",
      "\n"
     ]
    },
    {
     "data": {
      "text/html": [
       "<table>\n",
       "<thead>\n",
       "<tr><th>       </th><th>Temp              </th><th>Heat_time         </th><th>Valve_angle      </th><th>Vaccuum_time      </th><th>Thickness         </th><th>avg-c             </th></tr>\n",
       "</thead>\n",
       "<tbody>\n",
       "<tr><td>type   </td><td>int               </td><td>int               </td><td>int              </td><td>real              </td><td>real              </td><td>real              </td></tr>\n",
       "<tr><td>mins   </td><td>850.0             </td><td>110.0             </td><td>0.0              </td><td>5.0               </td><td>0.7               </td><td>11.3841625062522  </td></tr>\n",
       "<tr><td>mean   </td><td>900.45871559633   </td><td>129.44954128440364</td><td>10.18348623853211</td><td>7.477064220183486 </td><td>1.4275229357798163</td><td>14.981489065920181</td></tr>\n",
       "<tr><td>maxs   </td><td>950.0             </td><td>150.0             </td><td>20.0             </td><td>10.0              </td><td>2.0               </td><td>16.0              </td></tr>\n",
       "<tr><td>sigma  </td><td>21.240916189214822</td><td>8.906392043475071 </td><td>4.457962367982249</td><td>1.1152049327966038</td><td>0.6483414109226924</td><td>0.9780446704010999</td></tr>\n",
       "<tr><td>zeros  </td><td>0                 </td><td>0                 </td><td>3                </td><td>0                 </td><td>0                 </td><td>0                 </td></tr>\n",
       "<tr><td>missing</td><td>0                 </td><td>0                 </td><td>0                </td><td>0                 </td><td>0                 </td><td>0                 </td></tr>\n",
       "<tr><td>0      </td><td>950.0             </td><td>130.0             </td><td>10.0             </td><td>7.5               </td><td>2.0               </td><td>15.547681905570853</td></tr>\n",
       "<tr><td>1      </td><td>950.0             </td><td>130.0             </td><td>10.0             </td><td>7.5               </td><td>0.7               </td><td>16.0              </td></tr>\n",
       "<tr><td>2      </td><td>850.0             </td><td>130.0             </td><td>10.0             </td><td>7.5               </td><td>0.7               </td><td>16.0              </td></tr>\n",
       "<tr><td>3      </td><td>850.0             </td><td>130.0             </td><td>10.0             </td><td>7.5               </td><td>2.0               </td><td>13.6404911757476  </td></tr>\n",
       "<tr><td>4      </td><td>850.0             </td><td>130.0             </td><td>10.0             </td><td>7.5               </td><td>2.0               </td><td>13.5482543848438  </td></tr>\n",
       "<tr><td>5      </td><td>925.0             </td><td>120.0             </td><td>15.0             </td><td>6.25              </td><td>0.7               </td><td>15.0626438501892  </td></tr>\n",
       "<tr><td>6      </td><td>925.0             </td><td>120.0             </td><td>15.0             </td><td>8.75              </td><td>0.7               </td><td>16.0              </td></tr>\n",
       "<tr><td>7      </td><td>925.0             </td><td>120.0             </td><td>5.0              </td><td>6.25              </td><td>2.0               </td><td>14.48421463832905 </td></tr>\n",
       "<tr><td>8      </td><td>925.0             </td><td>120.0             </td><td>15.0             </td><td>6.25              </td><td>2.0               </td><td>14.6618362765797  </td></tr>\n",
       "<tr><td>9      </td><td>925.0             </td><td>140.0             </td><td>15.0             </td><td>6.25              </td><td>0.7               </td><td>15.922392415715748</td></tr>\n",
       "</tbody>\n",
       "</table>"
      ]
     },
     "metadata": {},
     "output_type": "display_data"
    }
   ],
   "source": [
    "hf_pv = h2o.H2OFrame(df_pv)\n",
    "hf_a = h2o.H2OFrame(df_a)\n",
    "hf_c = h2o.H2OFrame(df_c)\n",
    "\n",
    "hf_pv.describe()\n",
    "hf_a.describe()\n",
    "hf_c.describe()"
   ]
  },
  {
   "cell_type": "code",
   "execution_count": 42,
   "metadata": {},
   "outputs": [],
   "source": [
    "y1 = \"avg-pv\"\n",
    "y2 = \"avg-a\"\n",
    "y3 = \"avg-c\""
   ]
  },
  {
   "cell_type": "code",
   "execution_count": 41,
   "metadata": {},
   "outputs": [],
   "source": [
    "splits_pv = hf_pv.split_frame(ratios = [0.8], seed = 1)\n",
    "train_pv = splits[0]\n",
    "test_pv = splits[1]\n",
    "\n",
    "splits_a = hf_a.split_frame(ratios = [0.8], seed = 1)\n",
    "train_a = splits[0]\n",
    "test_a = splits[1]\n",
    "\n",
    "splits_c = hf_c.split_frame(ratios = [0.8], seed = 1)\n",
    "train_c = splits[0]\n",
    "test_c = splits[1]"
   ]
  },
  {
   "cell_type": "code",
   "execution_count": 43,
   "metadata": {},
   "outputs": [
    {
     "name": "stdout",
     "output_type": "stream",
     "text": [
      "AutoML progress: |\n",
      "13:36:19.556: AutoML: XGBoost is not available; skipping it.\n",
      "\n",
      "█████████████\n",
      "13:36:53.467: Skipping training of model GBM_5_AutoML_20200722_133619 due to exception: water.exceptions.H2OModelBuilderIllegalArgumentException: Illegal argument(s) for GBM model: GBM_5_AutoML_20200722_133619.  Details: ERRR on field: _min_rows: The dataset size is too small to split for min_rows=100.0: must have at least 200.0 (weighted) rows, but have only 109.0.\n",
      "\n",
      "\n",
      "█████████████████████████████████████████Failed polling AutoML progress log: [WinError 32] The process cannot access the file because it is being used by another process: 'C:\\\\Users\\\\Shrey\\\\AppData\\\\Local\\\\Temp\\\\tmpcd4e1wwd.csv'\n",
      "██| 100%\n",
      "AutoML progress: |Failed polling AutoML progress log: [WinError 32] The process cannot access the file because it is being used by another process: 'C:\\\\Users\\\\Shrey\\\\AppData\\\\Local\\\\Temp\\\\tmpezdxu624.csv'\n",
      "███\n",
      "13:41:15.665: AutoML: XGBoost is not available; skipping it.\n",
      "13:41:21.677: Skipping training of model GBM_5_AutoML_20200722_134115 due to exception: water.exceptions.H2OModelBuilderIllegalArgumentException: Illegal argument(s) for GBM model: GBM_5_AutoML_20200722_134115.  Details: ERRR on field: _min_rows: The dataset size is too small to split for min_rows=100.0: must have at least 200.0 (weighted) rows, but have only 109.0.\n",
      "\n",
      "\n",
      "█████████████████████████████████████████████████████| 100%\n",
      "AutoML progress: |\n",
      "13:45:59.700: AutoML: XGBoost is not available; skipping it.\n",
      "\n",
      "████\n",
      "13:46:05.708: Skipping training of model GBM_5_AutoML_20200722_134559 due to exception: water.exceptions.H2OModelBuilderIllegalArgumentException: Illegal argument(s) for GBM model: GBM_5_AutoML_20200722_134559.  Details: ERRR on field: _min_rows: The dataset size is too small to split for min_rows=100.0: must have at least 200.0 (weighted) rows, but have only 109.0.\n",
      "\n",
      "\n",
      "████████████████████████████████████████████████████| 100%\n"
     ]
    }
   ],
   "source": [
    "aml_pv = H2OAutoML(max_runtime_secs = 300, seed = 1, project_name = \"avg_pv\")\n",
    "aml_pv.train(y = y1, training_frame = hf_pv)\n",
    "\n",
    "aml_a = H2OAutoML(max_runtime_secs = 300, seed = 1, project_name = \"avg_a\")\n",
    "aml_a.train(y = y2, training_frame = hf_a)\n",
    "\n",
    "aml_c = H2OAutoML(max_runtime_secs = 300, seed = 1, project_name = \"avg_c\")\n",
    "aml_c.train(y = y3, training_frame = hf_c)\n"
   ]
  },
  {
   "cell_type": "code",
   "execution_count": 47,
   "metadata": {},
   "outputs": [
    {
     "data": {
      "text/html": [
       "<table>\n",
       "<thead>\n",
       "<tr><th>model_id                                           </th><th style=\"text-align: right;\">  mean_residual_deviance</th><th style=\"text-align: right;\">   rmse</th><th style=\"text-align: right;\">   mse</th><th style=\"text-align: right;\">    mae</th><th style=\"text-align: right;\">   rmsle</th></tr>\n",
       "</thead>\n",
       "<tbody>\n",
       "<tr><td>DeepLearning_grid__1_AutoML_20200722_133619_model_1</td><td style=\"text-align: right;\">                  281747</td><td style=\"text-align: right;\">530.799</td><td style=\"text-align: right;\">281747</td><td style=\"text-align: right;\">198.791</td><td style=\"text-align: right;\">0.233995</td></tr>\n",
       "<tr><td>StackedEnsemble_BestOfFamily_AutoML_20200722_133619</td><td style=\"text-align: right;\">                  284127</td><td style=\"text-align: right;\">533.036</td><td style=\"text-align: right;\">284127</td><td style=\"text-align: right;\">199.432</td><td style=\"text-align: right;\">0.229773</td></tr>\n",
       "<tr><td>XRT_1_AutoML_20200722_133619                       </td><td style=\"text-align: right;\">                  297312</td><td style=\"text-align: right;\">545.264</td><td style=\"text-align: right;\">297312</td><td style=\"text-align: right;\">221.487</td><td style=\"text-align: right;\">0.246117</td></tr>\n",
       "<tr><td>StackedEnsemble_AllModels_AutoML_20200722_133619   </td><td style=\"text-align: right;\">                  299894</td><td style=\"text-align: right;\">547.626</td><td style=\"text-align: right;\">299894</td><td style=\"text-align: right;\">209.853</td><td style=\"text-align: right;\">0.236741</td></tr>\n",
       "<tr><td>DRF_1_AutoML_20200722_133619                       </td><td style=\"text-align: right;\">                  307792</td><td style=\"text-align: right;\">554.79 </td><td style=\"text-align: right;\">307792</td><td style=\"text-align: right;\">221.857</td><td style=\"text-align: right;\">0.24307 </td></tr>\n",
       "<tr><td>DeepLearning_grid__3_AutoML_20200722_133619_model_2</td><td style=\"text-align: right;\">                  312499</td><td style=\"text-align: right;\">559.016</td><td style=\"text-align: right;\">312499</td><td style=\"text-align: right;\">213.05 </td><td style=\"text-align: right;\">0.244578</td></tr>\n",
       "<tr><td>DeepLearning_grid__1_AutoML_20200722_133619_model_4</td><td style=\"text-align: right;\">                  336417</td><td style=\"text-align: right;\">580.015</td><td style=\"text-align: right;\">336417</td><td style=\"text-align: right;\">223.385</td><td style=\"text-align: right;\">0.254418</td></tr>\n",
       "<tr><td>GBM_grid__1_AutoML_20200722_133619_model_4         </td><td style=\"text-align: right;\">                  338658</td><td style=\"text-align: right;\">581.943</td><td style=\"text-align: right;\">338658</td><td style=\"text-align: right;\">234.596</td><td style=\"text-align: right;\">0.261742</td></tr>\n",
       "<tr><td>GBM_grid__1_AutoML_20200722_133619_model_5         </td><td style=\"text-align: right;\">                  341153</td><td style=\"text-align: right;\">584.083</td><td style=\"text-align: right;\">341153</td><td style=\"text-align: right;\">231.401</td><td style=\"text-align: right;\">0.260207</td></tr>\n",
       "<tr><td>GBM_grid__1_AutoML_20200722_133619_model_7         </td><td style=\"text-align: right;\">                  344170</td><td style=\"text-align: right;\">586.66 </td><td style=\"text-align: right;\">344170</td><td style=\"text-align: right;\">238.281</td><td style=\"text-align: right;\">0.265831</td></tr>\n",
       "</tbody>\n",
       "</table>"
      ]
     },
     "metadata": {},
     "output_type": "display_data"
    },
    {
     "data": {
      "text/plain": []
     },
     "execution_count": 47,
     "metadata": {},
     "output_type": "execute_result"
    }
   ],
   "source": [
    "aml_pv.leaderboard.head()\n",
    "\n"
   ]
  },
  {
   "cell_type": "code",
   "execution_count": 45,
   "metadata": {},
   "outputs": [
    {
     "data": {
      "text/html": [
       "<table>\n",
       "<thead>\n",
       "<tr><th>model_id                                           </th><th style=\"text-align: right;\">  mean_residual_deviance</th><th style=\"text-align: right;\">    rmse</th><th style=\"text-align: right;\">      mse</th><th style=\"text-align: right;\">      mae</th><th style=\"text-align: right;\">    rmsle</th></tr>\n",
       "</thead>\n",
       "<tbody>\n",
       "<tr><td>GBM_grid__1_AutoML_20200722_134115_model_15        </td><td style=\"text-align: right;\">               0.0146393</td><td style=\"text-align: right;\">0.120993</td><td style=\"text-align: right;\">0.0146393</td><td style=\"text-align: right;\">0.0441086</td><td style=\"text-align: right;\">0.0293747</td></tr>\n",
       "<tr><td>GBM_grid__1_AutoML_20200722_134115_model_61        </td><td style=\"text-align: right;\">               0.0146937</td><td style=\"text-align: right;\">0.121218</td><td style=\"text-align: right;\">0.0146937</td><td style=\"text-align: right;\">0.0462593</td><td style=\"text-align: right;\">0.0284892</td></tr>\n",
       "<tr><td>GBM_grid__1_AutoML_20200722_134115_model_107       </td><td style=\"text-align: right;\">               0.0149673</td><td style=\"text-align: right;\">0.122341</td><td style=\"text-align: right;\">0.0149673</td><td style=\"text-align: right;\">0.0473152</td><td style=\"text-align: right;\">0.028705 </td></tr>\n",
       "<tr><td>GBM_grid__1_AutoML_20200722_134115_model_25        </td><td style=\"text-align: right;\">               0.015334 </td><td style=\"text-align: right;\">0.12383 </td><td style=\"text-align: right;\">0.015334 </td><td style=\"text-align: right;\">0.0489888</td><td style=\"text-align: right;\">0.0296871</td></tr>\n",
       "<tr><td>GBM_grid__1_AutoML_20200722_134115_model_117       </td><td style=\"text-align: right;\">               0.0154113</td><td style=\"text-align: right;\">0.124142</td><td style=\"text-align: right;\">0.0154113</td><td style=\"text-align: right;\">0.0500261</td><td style=\"text-align: right;\">0.0292026</td></tr>\n",
       "<tr><td>StackedEnsemble_BestOfFamily_AutoML_20200722_134115</td><td style=\"text-align: right;\">               0.015499 </td><td style=\"text-align: right;\">0.124495</td><td style=\"text-align: right;\">0.015499 </td><td style=\"text-align: right;\">0.043583 </td><td style=\"text-align: right;\">0.0310711</td></tr>\n",
       "<tr><td>GBM_grid__1_AutoML_20200722_134115_model_14        </td><td style=\"text-align: right;\">               0.0156384</td><td style=\"text-align: right;\">0.125054</td><td style=\"text-align: right;\">0.0156384</td><td style=\"text-align: right;\">0.0452358</td><td style=\"text-align: right;\">0.0301818</td></tr>\n",
       "<tr><td>GBM_grid__1_AutoML_20200722_134115_model_86        </td><td style=\"text-align: right;\">               0.0157193</td><td style=\"text-align: right;\">0.125377</td><td style=\"text-align: right;\">0.0157193</td><td style=\"text-align: right;\">0.0450513</td><td style=\"text-align: right;\">0.0296815</td></tr>\n",
       "<tr><td>GBM_grid__1_AutoML_20200722_134115_model_22        </td><td style=\"text-align: right;\">               0.0157898</td><td style=\"text-align: right;\">0.125658</td><td style=\"text-align: right;\">0.0157898</td><td style=\"text-align: right;\">0.0450226</td><td style=\"text-align: right;\">0.029772 </td></tr>\n",
       "<tr><td>GBM_grid__1_AutoML_20200722_134115_model_102       </td><td style=\"text-align: right;\">               0.0168964</td><td style=\"text-align: right;\">0.129986</td><td style=\"text-align: right;\">0.0168964</td><td style=\"text-align: right;\">0.051167 </td><td style=\"text-align: right;\">0.0308108</td></tr>\n",
       "</tbody>\n",
       "</table>"
      ]
     },
     "metadata": {},
     "output_type": "display_data"
    },
    {
     "data": {
      "text/plain": []
     },
     "execution_count": 45,
     "metadata": {},
     "output_type": "execute_result"
    }
   ],
   "source": [
    "aml_a.leaderboard.head()"
   ]
  },
  {
   "cell_type": "code",
   "execution_count": 46,
   "metadata": {},
   "outputs": [
    {
     "data": {
      "text/html": [
       "<table>\n",
       "<thead>\n",
       "<tr><th>model_id                                    </th><th style=\"text-align: right;\">  mean_residual_deviance</th><th style=\"text-align: right;\">    rmse</th><th style=\"text-align: right;\">     mse</th><th style=\"text-align: right;\">     mae</th><th style=\"text-align: right;\">    rmsle</th></tr>\n",
       "</thead>\n",
       "<tbody>\n",
       "<tr><td>GBM_grid__1_AutoML_20200722_134559_model_14 </td><td style=\"text-align: right;\">                0.13985 </td><td style=\"text-align: right;\">0.373965</td><td style=\"text-align: right;\">0.13985 </td><td style=\"text-align: right;\">0.281412</td><td style=\"text-align: right;\">0.0234669</td></tr>\n",
       "<tr><td>GBM_grid__1_AutoML_20200722_134559_model_40 </td><td style=\"text-align: right;\">                0.147581</td><td style=\"text-align: right;\">0.384162</td><td style=\"text-align: right;\">0.147581</td><td style=\"text-align: right;\">0.274262</td><td style=\"text-align: right;\">0.0243528</td></tr>\n",
       "<tr><td>GBM_grid__1_AutoML_20200722_134559_model_102</td><td style=\"text-align: right;\">                0.148517</td><td style=\"text-align: right;\">0.385379</td><td style=\"text-align: right;\">0.148517</td><td style=\"text-align: right;\">0.292637</td><td style=\"text-align: right;\">0.0242089</td></tr>\n",
       "<tr><td>GBM_grid__1_AutoML_20200722_134559_model_86 </td><td style=\"text-align: right;\">                0.1518  </td><td style=\"text-align: right;\">0.389616</td><td style=\"text-align: right;\">0.1518  </td><td style=\"text-align: right;\">0.290383</td><td style=\"text-align: right;\">0.0244976</td></tr>\n",
       "<tr><td>GBM_grid__1_AutoML_20200722_134559_model_117</td><td style=\"text-align: right;\">                0.151974</td><td style=\"text-align: right;\">0.389839</td><td style=\"text-align: right;\">0.151974</td><td style=\"text-align: right;\">0.292035</td><td style=\"text-align: right;\">0.0245397</td></tr>\n",
       "<tr><td>GBM_1_AutoML_20200722_134559                </td><td style=\"text-align: right;\">                0.154173</td><td style=\"text-align: right;\">0.392649</td><td style=\"text-align: right;\">0.154173</td><td style=\"text-align: right;\">0.288558</td><td style=\"text-align: right;\">0.0245648</td></tr>\n",
       "<tr><td>GBM_grid__1_AutoML_20200722_134559_model_22 </td><td style=\"text-align: right;\">                0.15433 </td><td style=\"text-align: right;\">0.392848</td><td style=\"text-align: right;\">0.15433 </td><td style=\"text-align: right;\">0.295345</td><td style=\"text-align: right;\">0.0245845</td></tr>\n",
       "<tr><td>GBM_grid__1_AutoML_20200722_134559_model_41 </td><td style=\"text-align: right;\">                0.155482</td><td style=\"text-align: right;\">0.394312</td><td style=\"text-align: right;\">0.155482</td><td style=\"text-align: right;\">0.277561</td><td style=\"text-align: right;\">0.0251367</td></tr>\n",
       "<tr><td>GBM_grid__1_AutoML_20200722_134559_model_8  </td><td style=\"text-align: right;\">                0.157494</td><td style=\"text-align: right;\">0.396855</td><td style=\"text-align: right;\">0.157494</td><td style=\"text-align: right;\">0.283041</td><td style=\"text-align: right;\">0.0251689</td></tr>\n",
       "<tr><td>GBM_grid__1_AutoML_20200722_134559_model_89 </td><td style=\"text-align: right;\">                0.160291</td><td style=\"text-align: right;\">0.400364</td><td style=\"text-align: right;\">0.160291</td><td style=\"text-align: right;\">0.288725</td><td style=\"text-align: right;\">0.0258667</td></tr>\n",
       "</tbody>\n",
       "</table>"
      ]
     },
     "metadata": {},
     "output_type": "display_data"
    },
    {
     "data": {
      "text/plain": []
     },
     "execution_count": 46,
     "metadata": {},
     "output_type": "execute_result"
    }
   ],
   "source": [
    "aml_c.leaderboard.head()"
   ]
  },
  {
   "cell_type": "code",
   "execution_count": 48,
   "metadata": {},
   "outputs": [
    {
     "name": "stdout",
     "output_type": "stream",
     "text": [
      "deeplearning prediction progress: |███████████████████████████████████████| 100%\n"
     ]
    }
   ],
   "source": [
    "preds_pv = aml_pv.predict(hf_pv)"
   ]
  },
  {
   "cell_type": "code",
   "execution_count": 49,
   "metadata": {},
   "outputs": [
    {
     "name": "stdout",
     "output_type": "stream",
     "text": [
      "gbm prediction progress: |████████████████████████████████████████████████| 100%\n",
      "gbm prediction progress: |████████████████████████████████████████████████| 100%\n"
     ]
    }
   ],
   "source": [
    "preds_a = aml_a.predict(hf_a)\n",
    "preds_c= aml_c.predict(hf_c)"
   ]
  },
  {
   "cell_type": "code",
   "execution_count": 54,
   "metadata": {},
   "outputs": [
    {
     "name": "stdout",
     "output_type": "stream",
     "text": [
      "Rows:109\n",
      "Cols:1\n",
      "\n",
      "\n"
     ]
    },
    {
     "data": {
      "text/html": [
       "<table>\n",
       "<thead>\n",
       "<tr><th>       </th><th>predict           </th></tr>\n",
       "</thead>\n",
       "<tbody>\n",
       "<tr><td>type   </td><td>real              </td></tr>\n",
       "<tr><td>mins   </td><td>900.5126816096206 </td></tr>\n",
       "<tr><td>mean   </td><td>1358.4277529873473</td></tr>\n",
       "<tr><td>maxs   </td><td>3871.689513543458 </td></tr>\n",
       "<tr><td>sigma  </td><td>474.62762182491605</td></tr>\n",
       "<tr><td>zeros  </td><td>0                 </td></tr>\n",
       "<tr><td>missing</td><td>0                 </td></tr>\n",
       "<tr><td>0      </td><td>1123.8680173384491</td></tr>\n",
       "<tr><td>1      </td><td>900.5126816096206 </td></tr>\n",
       "<tr><td>2      </td><td>1005.3858183853184</td></tr>\n",
       "<tr><td>3      </td><td>1526.6409289075182</td></tr>\n",
       "<tr><td>4      </td><td>1526.6409289075182</td></tr>\n",
       "<tr><td>5      </td><td>1242.1905216123769</td></tr>\n",
       "<tr><td>6      </td><td>1099.071182101317 </td></tr>\n",
       "<tr><td>7      </td><td>1238.7099871350233</td></tr>\n",
       "<tr><td>8      </td><td>1380.6460683670953</td></tr>\n",
       "<tr><td>9      </td><td>1306.0994249981234</td></tr>\n",
       "</tbody>\n",
       "</table>"
      ]
     },
     "metadata": {},
     "output_type": "display_data"
    }
   ],
   "source": [
    "preds_pv.describe()"
   ]
  },
  {
   "cell_type": "code",
   "execution_count": 57,
   "metadata": {},
   "outputs": [],
   "source": [
    "pred_pv_list = h2o.as_list(preds_pv)"
   ]
  },
  {
   "cell_type": "code",
   "execution_count": 60,
   "metadata": {},
   "outputs": [],
   "source": [
    "pred_pv_list.to_excel(\"preds_pv.xlsx\")"
   ]
  },
  {
   "cell_type": "code",
   "execution_count": 61,
   "metadata": {},
   "outputs": [],
   "source": [
    "pred_a_list = h2o.as_list(preds_a)\n",
    "pred_c_list = h2o.as_list(preds_c)\n",
    "\n",
    "pred_a_list.to_excel(\"preds_a.xlsx\")\n",
    "pred_c_list.to_excel(\"preds_c.xlsx\")"
   ]
  },
  {
   "cell_type": "code",
   "execution_count": null,
   "metadata": {},
   "outputs": [],
   "source": []
  }
 ],
 "metadata": {
  "kernelspec": {
   "display_name": "Python 3",
   "language": "python",
   "name": "python3"
  },
  "language_info": {
   "codemirror_mode": {
    "name": "ipython",
    "version": 3
   },
   "file_extension": ".py",
   "mimetype": "text/x-python",
   "name": "python",
   "nbconvert_exporter": "python",
   "pygments_lexer": "ipython3",
   "version": "3.7.4"
  }
 },
 "nbformat": 4,
 "nbformat_minor": 2
}
